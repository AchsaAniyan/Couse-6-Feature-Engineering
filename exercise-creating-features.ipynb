{
 "cells": [
  {
   "cell_type": "markdown",
   "id": "0b4fca43",
   "metadata": {
    "papermill": {
     "duration": 0.007968,
     "end_time": "2023-12-30T05:41:47.153200",
     "exception": false,
     "start_time": "2023-12-30T05:41:47.145232",
     "status": "completed"
    },
    "tags": []
   },
   "source": [
    "**This notebook is an exercise in the [Feature Engineering](https://www.kaggle.com/learn/feature-engineering) course.  You can reference the tutorial at [this link](https://www.kaggle.com/ryanholbrook/creating-features).**\n",
    "\n",
    "---\n"
   ]
  },
  {
   "cell_type": "markdown",
   "id": "8954d8f5",
   "metadata": {
    "papermill": {
     "duration": 0.007005,
     "end_time": "2023-12-30T05:41:47.167668",
     "exception": false,
     "start_time": "2023-12-30T05:41:47.160663",
     "status": "completed"
    },
    "tags": []
   },
   "source": [
    "# Introduction #\n",
    "\n",
    "In this exercise you'll start developing the features you identified in Exercise 2 as having the most potential. As you work through this exercise, you might take a moment to look at the data documentation again and consider whether the features we're creating make sense from a real-world perspective, and whether there are any useful combinations that stand out to you.\n",
    "\n",
    "Run this cell to set everything up!"
   ]
  },
  {
   "cell_type": "code",
   "execution_count": 1,
   "id": "aeec7c65",
   "metadata": {
    "execution": {
     "iopub.execute_input": "2023-12-30T05:41:47.185033Z",
     "iopub.status.busy": "2023-12-30T05:41:47.184209Z",
     "iopub.status.idle": "2023-12-30T05:41:50.041344Z",
     "shell.execute_reply": "2023-12-30T05:41:50.039993Z"
    },
    "papermill": {
     "duration": 2.869599,
     "end_time": "2023-12-30T05:41:50.044532",
     "exception": false,
     "start_time": "2023-12-30T05:41:47.174933",
     "status": "completed"
    },
    "tags": []
   },
   "outputs": [],
   "source": [
    "# Setup feedback system\n",
    "from learntools.core import binder\n",
    "binder.bind(globals())\n",
    "from learntools.feature_engineering_new.ex3 import *\n",
    "\n",
    "import numpy as np\n",
    "import pandas as pd\n",
    "from sklearn.model_selection import cross_val_score\n",
    "from xgboost import XGBRegressor\n",
    "\n",
    "\n",
    "def score_dataset(X, y, model=XGBRegressor()):\n",
    "    # Label encoding for categoricals\n",
    "    for colname in X.select_dtypes([\"category\", \"object\"]):\n",
    "        X[colname], _ = X[colname].factorize()\n",
    "    # Metric for Housing competition is RMSLE (Root Mean Squared Log Error)\n",
    "    score = cross_val_score(\n",
    "        model, X, y, cv=5, scoring=\"neg_mean_squared_log_error\",\n",
    "    )\n",
    "    score = -1 * score.mean()\n",
    "    score = np.sqrt(score)\n",
    "    return score\n",
    "\n",
    "\n",
    "# Prepare data\n",
    "df = pd.read_csv(\"../input/fe-course-data/ames.csv\")\n",
    "X = df.copy()\n",
    "y = X.pop(\"SalePrice\")"
   ]
  },
  {
   "cell_type": "markdown",
   "id": "d17aada3",
   "metadata": {
    "papermill": {
     "duration": 0.007218,
     "end_time": "2023-12-30T05:41:50.060579",
     "exception": false,
     "start_time": "2023-12-30T05:41:50.053361",
     "status": "completed"
    },
    "tags": []
   },
   "source": [
    "-------------------------------------------------------------------------------\n",
    "\n",
    "Let's start with a few mathematical combinations. We'll focus on features describing areas -- having the same units (square-feet) makes it easy to combine them in sensible ways. Since we're using XGBoost (a tree-based model), we'll focus on ratios and sums.\n",
    "\n",
    "# 1) Create Mathematical Transforms\n",
    "\n",
    "Create the following features:\n",
    "\n",
    "- `LivLotRatio`: the ratio of `GrLivArea` to `LotArea`\n",
    "- `Spaciousness`: the sum of `FirstFlrSF` and `SecondFlrSF` divided by `TotRmsAbvGrd`\n",
    "- `TotalOutsideSF`: the sum of `WoodDeckSF`, `OpenPorchSF`, `EnclosedPorch`, `Threeseasonporch`, and `ScreenPorch`"
   ]
  },
  {
   "cell_type": "code",
   "execution_count": 2,
   "id": "990d8bf8",
   "metadata": {
    "execution": {
     "iopub.execute_input": "2023-12-30T05:41:50.077784Z",
     "iopub.status.busy": "2023-12-30T05:41:50.077150Z",
     "iopub.status.idle": "2023-12-30T05:41:50.102681Z",
     "shell.execute_reply": "2023-12-30T05:41:50.101574Z"
    },
    "lines_to_next_cell": 0,
    "papermill": {
     "duration": 0.037489,
     "end_time": "2023-12-30T05:41:50.105439",
     "exception": false,
     "start_time": "2023-12-30T05:41:50.067950",
     "status": "completed"
    },
    "tags": []
   },
   "outputs": [
    {
     "data": {
      "application/javascript": [
       "parent.postMessage({\"jupyterEvent\": \"custom.exercise_interaction\", \"data\": {\"outcomeType\": 1, \"valueTowardsCompletion\": 0.2, \"interactionType\": 1, \"questionType\": 2, \"questionId\": \"1_Q1\", \"learnToolsVersion\": \"0.3.4\", \"failureMessage\": \"\", \"exceptionClass\": \"\", \"trace\": \"\"}}, \"*\")"
      ],
      "text/plain": [
       "<IPython.core.display.Javascript object>"
      ]
     },
     "metadata": {},
     "output_type": "display_data"
    },
    {
     "data": {
      "text/markdown": [
       "<span style=\"color:#33cc33\">Correct</span>"
      ],
      "text/plain": [
       "Correct"
      ]
     },
     "metadata": {},
     "output_type": "display_data"
    }
   ],
   "source": [
    "# YOUR CODE HERE\n",
    "X_1 = pd.DataFrame()  # dataframe to hold new features\n",
    "\n",
    "X_1[\"LivLotRatio\"] = df.GrLivArea / df.LotArea\n",
    "X_1[\"Spaciousness\"] = (df.FirstFlrSF + df.SecondFlrSF) / df.TotRmsAbvGrd\n",
    "X_1[\"TotalOutsideSF\"] = df.WoodDeckSF + df.OpenPorchSF + df.EnclosedPorch + df.Threeseasonporch + df.ScreenPorch\n",
    "\n",
    "# Check your answer\n",
    "q_1.check()"
   ]
  },
  {
   "cell_type": "code",
   "execution_count": 3,
   "id": "186c26b0",
   "metadata": {
    "execution": {
     "iopub.execute_input": "2023-12-30T05:41:50.124880Z",
     "iopub.status.busy": "2023-12-30T05:41:50.124460Z",
     "iopub.status.idle": "2023-12-30T05:41:50.129602Z",
     "shell.execute_reply": "2023-12-30T05:41:50.128504Z"
    },
    "lines_to_next_cell": 0,
    "papermill": {
     "duration": 0.018066,
     "end_time": "2023-12-30T05:41:50.131936",
     "exception": false,
     "start_time": "2023-12-30T05:41:50.113870",
     "status": "completed"
    },
    "tags": []
   },
   "outputs": [],
   "source": [
    "# Lines below will give you a hint or solution code\n",
    "#q_1.hint()\n",
    "# q_1.solution()"
   ]
  },
  {
   "cell_type": "markdown",
   "id": "25e93142",
   "metadata": {
    "papermill": {
     "duration": 0.008487,
     "end_time": "2023-12-30T05:41:50.149288",
     "exception": false,
     "start_time": "2023-12-30T05:41:50.140801",
     "status": "completed"
    },
    "tags": []
   },
   "source": [
    "-------------------------------------------------------------------------------\n",
    "\n",
    "If you've discovered an interaction effect between a numeric feature and a categorical feature, you might want to model it explicitly using a one-hot encoding, like so:\n",
    "\n",
    "```\n",
    "# One-hot encode Categorical feature, adding a column prefix \"Cat\"\n",
    "X_new = pd.get_dummies(df.Categorical, prefix=\"Cat\")\n",
    "\n",
    "# Multiply row-by-row\n",
    "X_new = X_new.mul(df.Continuous, axis=0)\n",
    "\n",
    "# Join the new features to the feature set\n",
    "X = X.join(X_new)\n",
    "```\n",
    "\n",
    "# 2) Interaction with a Categorical\n",
    "\n",
    "We discovered an interaction between `BldgType` and `GrLivArea` in Exercise 2. Now create their interaction features."
   ]
  },
  {
   "cell_type": "code",
   "execution_count": 4,
   "id": "7b57250d",
   "metadata": {
    "execution": {
     "iopub.execute_input": "2023-12-30T05:41:50.168713Z",
     "iopub.status.busy": "2023-12-30T05:41:50.168275Z",
     "iopub.status.idle": "2023-12-30T05:41:50.188196Z",
     "shell.execute_reply": "2023-12-30T05:41:50.187167Z"
    },
    "lines_to_next_cell": 0,
    "papermill": {
     "duration": 0.031905,
     "end_time": "2023-12-30T05:41:50.190351",
     "exception": false,
     "start_time": "2023-12-30T05:41:50.158446",
     "status": "completed"
    },
    "tags": []
   },
   "outputs": [
    {
     "data": {
      "application/javascript": [
       "parent.postMessage({\"jupyterEvent\": \"custom.exercise_interaction\", \"data\": {\"outcomeType\": 1, \"valueTowardsCompletion\": 0.2, \"interactionType\": 1, \"questionType\": 2, \"questionId\": \"2_Q2\", \"learnToolsVersion\": \"0.3.4\", \"failureMessage\": \"\", \"exceptionClass\": \"\", \"trace\": \"\"}}, \"*\")"
      ],
      "text/plain": [
       "<IPython.core.display.Javascript object>"
      ]
     },
     "metadata": {},
     "output_type": "display_data"
    },
    {
     "data": {
      "text/markdown": [
       "<span style=\"color:#33cc33\">Correct</span>"
      ],
      "text/plain": [
       "Correct"
      ]
     },
     "metadata": {},
     "output_type": "display_data"
    }
   ],
   "source": [
    "# YOUR CODE HERE\n",
    "# One-hot encode BldgType. Use `prefix=\"Bldg\"` in `get_dummies`\n",
    "X_2 = pd.get_dummies(df.BldgType, prefix=\"Bldg\")\n",
    "# Multiply\n",
    "X_2 = X_2.mul(df.GrLivArea, axis=0)\n",
    "\n",
    "# Check your answer\n",
    "q_2.check()"
   ]
  },
  {
   "cell_type": "code",
   "execution_count": 5,
   "id": "3f07b9a0",
   "metadata": {
    "execution": {
     "iopub.execute_input": "2023-12-30T05:41:50.209623Z",
     "iopub.status.busy": "2023-12-30T05:41:50.209181Z",
     "iopub.status.idle": "2023-12-30T05:41:50.213229Z",
     "shell.execute_reply": "2023-12-30T05:41:50.212234Z"
    },
    "lines_to_next_cell": 0,
    "papermill": {
     "duration": 0.016717,
     "end_time": "2023-12-30T05:41:50.215351",
     "exception": false,
     "start_time": "2023-12-30T05:41:50.198634",
     "status": "completed"
    },
    "tags": []
   },
   "outputs": [],
   "source": [
    "# Lines below will give you a hint or solution code\n",
    "#q_2.hint()\n",
    "# q_2.solution()"
   ]
  },
  {
   "cell_type": "markdown",
   "id": "92519290",
   "metadata": {
    "lines_to_next_cell": 0,
    "papermill": {
     "duration": 0.008087,
     "end_time": "2023-12-30T05:41:50.231625",
     "exception": false,
     "start_time": "2023-12-30T05:41:50.223538",
     "status": "completed"
    },
    "tags": []
   },
   "source": [
    "# 3) Count Feature\n",
    "\n",
    "Let's try creating a feature that describes how many kinds of outdoor areas a dwelling has. Create a feature `PorchTypes` that counts how many of the following are greater than 0.0:\n",
    "\n",
    "```\n",
    "WoodDeckSF\n",
    "OpenPorchSF\n",
    "EnclosedPorch\n",
    "Threeseasonporch\n",
    "ScreenPorch\n",
    "```"
   ]
  },
  {
   "cell_type": "code",
   "execution_count": 6,
   "id": "cc54718b",
   "metadata": {
    "execution": {
     "iopub.execute_input": "2023-12-30T05:41:50.250672Z",
     "iopub.status.busy": "2023-12-30T05:41:50.249843Z",
     "iopub.status.idle": "2023-12-30T05:41:50.271871Z",
     "shell.execute_reply": "2023-12-30T05:41:50.270737Z"
    },
    "lines_to_next_cell": 0,
    "papermill": {
     "duration": 0.034417,
     "end_time": "2023-12-30T05:41:50.274157",
     "exception": false,
     "start_time": "2023-12-30T05:41:50.239740",
     "status": "completed"
    },
    "tags": []
   },
   "outputs": [
    {
     "data": {
      "application/javascript": [
       "parent.postMessage({\"jupyterEvent\": \"custom.exercise_interaction\", \"data\": {\"outcomeType\": 1, \"valueTowardsCompletion\": 0.2, \"interactionType\": 1, \"questionType\": 2, \"questionId\": \"3_Q3\", \"learnToolsVersion\": \"0.3.4\", \"failureMessage\": \"\", \"exceptionClass\": \"\", \"trace\": \"\"}}, \"*\")"
      ],
      "text/plain": [
       "<IPython.core.display.Javascript object>"
      ]
     },
     "metadata": {},
     "output_type": "display_data"
    },
    {
     "data": {
      "text/markdown": [
       "<span style=\"color:#33cc33\">Correct</span>"
      ],
      "text/plain": [
       "Correct"
      ]
     },
     "metadata": {},
     "output_type": "display_data"
    }
   ],
   "source": [
    "X_3 = pd.DataFrame()\n",
    "\n",
    "# YOUR CODE HERE\n",
    "X_3[\"PorchTypes\"] = df[[\n",
    "    \"WoodDeckSF\",\n",
    "    \"OpenPorchSF\",\n",
    "    \"EnclosedPorch\",\n",
    "    \"Threeseasonporch\",\n",
    "    \"ScreenPorch\",\n",
    "]].gt(0.0).sum(axis=1)\n",
    "\n",
    "# Check your answer\n",
    "q_3.check()"
   ]
  },
  {
   "cell_type": "code",
   "execution_count": 7,
   "id": "eb7b36cd",
   "metadata": {
    "execution": {
     "iopub.execute_input": "2023-12-30T05:41:50.294049Z",
     "iopub.status.busy": "2023-12-30T05:41:50.293291Z",
     "iopub.status.idle": "2023-12-30T05:41:50.299466Z",
     "shell.execute_reply": "2023-12-30T05:41:50.297780Z"
    },
    "lines_to_next_cell": 0,
    "papermill": {
     "duration": 0.019489,
     "end_time": "2023-12-30T05:41:50.302117",
     "exception": false,
     "start_time": "2023-12-30T05:41:50.282628",
     "status": "completed"
    },
    "tags": []
   },
   "outputs": [],
   "source": [
    "# Lines below will give you a hint or solution code\n",
    "#q_3.hint()\n",
    "# q_3.solution()"
   ]
  },
  {
   "cell_type": "markdown",
   "id": "8791e6ec",
   "metadata": {
    "papermill": {
     "duration": 0.008282,
     "end_time": "2023-12-30T05:41:50.319401",
     "exception": false,
     "start_time": "2023-12-30T05:41:50.311119",
     "status": "completed"
    },
    "tags": []
   },
   "source": [
    "# 4) Break Down a Categorical Feature\n",
    "\n",
    "`MSSubClass` describes the type of a dwelling:"
   ]
  },
  {
   "cell_type": "code",
   "execution_count": 8,
   "id": "d87763ec",
   "metadata": {
    "execution": {
     "iopub.execute_input": "2023-12-30T05:41:50.339430Z",
     "iopub.status.busy": "2023-12-30T05:41:50.338800Z",
     "iopub.status.idle": "2023-12-30T05:41:50.348751Z",
     "shell.execute_reply": "2023-12-30T05:41:50.347349Z"
    },
    "papermill": {
     "duration": 0.023048,
     "end_time": "2023-12-30T05:41:50.351235",
     "exception": false,
     "start_time": "2023-12-30T05:41:50.328187",
     "status": "completed"
    },
    "tags": []
   },
   "outputs": [
    {
     "data": {
      "text/plain": [
       "array(['One_Story_1946_and_Newer_All_Styles', 'Two_Story_1946_and_Newer',\n",
       "       'One_Story_PUD_1946_and_Newer',\n",
       "       'One_and_Half_Story_Finished_All_Ages', 'Split_Foyer',\n",
       "       'Two_Story_PUD_1946_and_Newer', 'Split_or_Multilevel',\n",
       "       'One_Story_1945_and_Older', 'Duplex_All_Styles_and_Ages',\n",
       "       'Two_Family_conversion_All_Styles_and_Ages',\n",
       "       'One_and_Half_Story_Unfinished_All_Ages',\n",
       "       'Two_Story_1945_and_Older', 'Two_and_Half_Story_All_Ages',\n",
       "       'One_Story_with_Finished_Attic_All_Ages',\n",
       "       'PUD_Multilevel_Split_Level_Foyer',\n",
       "       'One_and_Half_Story_PUD_All_Ages'], dtype=object)"
      ]
     },
     "execution_count": 8,
     "metadata": {},
     "output_type": "execute_result"
    }
   ],
   "source": [
    "df.MSSubClass.unique()"
   ]
  },
  {
   "cell_type": "markdown",
   "id": "fbeb0468",
   "metadata": {
    "papermill": {
     "duration": 0.008401,
     "end_time": "2023-12-30T05:41:50.368439",
     "exception": false,
     "start_time": "2023-12-30T05:41:50.360038",
     "status": "completed"
    },
    "tags": []
   },
   "source": [
    "You can see that there is a more general categorization described (roughly) by the first word of each category. Create a feature containing only these first words by splitting `MSSubClass` at the first underscore `_`. (Hint: In the `split` method use an argument `n=1`.)"
   ]
  },
  {
   "cell_type": "code",
   "execution_count": 9,
   "id": "d6cc1b69",
   "metadata": {
    "execution": {
     "iopub.execute_input": "2023-12-30T05:41:50.388138Z",
     "iopub.status.busy": "2023-12-30T05:41:50.387607Z",
     "iopub.status.idle": "2023-12-30T05:41:50.419392Z",
     "shell.execute_reply": "2023-12-30T05:41:50.418183Z"
    },
    "lines_to_next_cell": 0,
    "papermill": {
     "duration": 0.044554,
     "end_time": "2023-12-30T05:41:50.421691",
     "exception": false,
     "start_time": "2023-12-30T05:41:50.377137",
     "status": "completed"
    },
    "tags": []
   },
   "outputs": [
    {
     "data": {
      "application/javascript": [
       "parent.postMessage({\"jupyterEvent\": \"custom.exercise_interaction\", \"data\": {\"outcomeType\": 1, \"valueTowardsCompletion\": 0.2, \"interactionType\": 1, \"questionType\": 2, \"questionId\": \"4_Q4\", \"learnToolsVersion\": \"0.3.4\", \"failureMessage\": \"\", \"exceptionClass\": \"\", \"trace\": \"\"}}, \"*\")"
      ],
      "text/plain": [
       "<IPython.core.display.Javascript object>"
      ]
     },
     "metadata": {},
     "output_type": "display_data"
    },
    {
     "data": {
      "text/markdown": [
       "<span style=\"color:#33cc33\">Correct</span>"
      ],
      "text/plain": [
       "Correct"
      ]
     },
     "metadata": {},
     "output_type": "display_data"
    }
   ],
   "source": [
    "X_4 = pd.DataFrame()\n",
    "\n",
    "# YOUR CODE HERE\n",
    "X_4[\"MSClass\"] = df.MSSubClass.str.split(\"_\", n=1, expand=True)[0]\n",
    "\n",
    "# Check your answer\n",
    "q_4.check()"
   ]
  },
  {
   "cell_type": "code",
   "execution_count": 10,
   "id": "e324da89",
   "metadata": {
    "execution": {
     "iopub.execute_input": "2023-12-30T05:41:50.442519Z",
     "iopub.status.busy": "2023-12-30T05:41:50.442030Z",
     "iopub.status.idle": "2023-12-30T05:41:50.447644Z",
     "shell.execute_reply": "2023-12-30T05:41:50.446311Z"
    },
    "lines_to_next_cell": 0,
    "papermill": {
     "duration": 0.01953,
     "end_time": "2023-12-30T05:41:50.450310",
     "exception": false,
     "start_time": "2023-12-30T05:41:50.430780",
     "status": "completed"
    },
    "tags": []
   },
   "outputs": [],
   "source": [
    "# Lines below will give you a hint or solution code\n",
    "#q_4.hint()\n",
    "#q_4.solution()"
   ]
  },
  {
   "cell_type": "markdown",
   "id": "4ddf7ba1",
   "metadata": {
    "papermill": {
     "duration": 0.008896,
     "end_time": "2023-12-30T05:41:50.468700",
     "exception": false,
     "start_time": "2023-12-30T05:41:50.459804",
     "status": "completed"
    },
    "tags": []
   },
   "source": [
    "# 5) Use a Grouped Transform\n",
    "\n",
    "The value of a home often depends on how it compares to typical homes in its neighborhood. Create a feature `MedNhbdArea` that describes the *median* of `GrLivArea` grouped on `Neighborhood`."
   ]
  },
  {
   "cell_type": "code",
   "execution_count": 11,
   "id": "ff2c9d71",
   "metadata": {
    "execution": {
     "iopub.execute_input": "2023-12-30T05:41:50.488812Z",
     "iopub.status.busy": "2023-12-30T05:41:50.488391Z",
     "iopub.status.idle": "2023-12-30T05:41:50.509565Z",
     "shell.execute_reply": "2023-12-30T05:41:50.508574Z"
    },
    "lines_to_next_cell": 0,
    "papermill": {
     "duration": 0.033887,
     "end_time": "2023-12-30T05:41:50.511719",
     "exception": false,
     "start_time": "2023-12-30T05:41:50.477832",
     "status": "completed"
    },
    "tags": []
   },
   "outputs": [
    {
     "data": {
      "application/javascript": [
       "parent.postMessage({\"jupyterEvent\": \"custom.exercise_interaction\", \"data\": {\"outcomeType\": 1, \"valueTowardsCompletion\": 0.2, \"interactionType\": 1, \"questionType\": 2, \"questionId\": \"5_Q5\", \"learnToolsVersion\": \"0.3.4\", \"failureMessage\": \"\", \"exceptionClass\": \"\", \"trace\": \"\"}}, \"*\")"
      ],
      "text/plain": [
       "<IPython.core.display.Javascript object>"
      ]
     },
     "metadata": {},
     "output_type": "display_data"
    },
    {
     "data": {
      "text/markdown": [
       "<span style=\"color:#33cc33\">Correct</span>"
      ],
      "text/plain": [
       "Correct"
      ]
     },
     "metadata": {},
     "output_type": "display_data"
    }
   ],
   "source": [
    "X_5 = pd.DataFrame()\n",
    "\n",
    "# YOUR CODE HERE\n",
    "X_5[\"MedNhbdArea\"] = df.groupby(\"Neighborhood\")[\"GrLivArea\"].transform(\"median\")\n",
    "# Check your answer\n",
    "q_5.check()"
   ]
  },
  {
   "cell_type": "code",
   "execution_count": 12,
   "id": "1a9eac8b",
   "metadata": {
    "execution": {
     "iopub.execute_input": "2023-12-30T05:41:50.532783Z",
     "iopub.status.busy": "2023-12-30T05:41:50.532347Z",
     "iopub.status.idle": "2023-12-30T05:41:50.537928Z",
     "shell.execute_reply": "2023-12-30T05:41:50.536539Z"
    },
    "lines_to_next_cell": 0,
    "papermill": {
     "duration": 0.019369,
     "end_time": "2023-12-30T05:41:50.540491",
     "exception": false,
     "start_time": "2023-12-30T05:41:50.521122",
     "status": "completed"
    },
    "tags": []
   },
   "outputs": [],
   "source": [
    "# Lines below will give you a hint or solution code\n",
    "#q_5.hint()\n",
    "#q_5.solution()"
   ]
  },
  {
   "cell_type": "markdown",
   "id": "2fbd8c3b",
   "metadata": {
    "papermill": {
     "duration": 0.009006,
     "end_time": "2023-12-30T05:41:50.559017",
     "exception": false,
     "start_time": "2023-12-30T05:41:50.550011",
     "status": "completed"
    },
    "tags": []
   },
   "source": [
    "Now you've made your first new feature set! If you like, you can run the cell below to score the model with all of your new features added:"
   ]
  },
  {
   "cell_type": "code",
   "execution_count": 13,
   "id": "7d2b461f",
   "metadata": {
    "execution": {
     "iopub.execute_input": "2023-12-30T05:41:50.579751Z",
     "iopub.status.busy": "2023-12-30T05:41:50.579258Z",
     "iopub.status.idle": "2023-12-30T05:41:53.486848Z",
     "shell.execute_reply": "2023-12-30T05:41:53.485565Z"
    },
    "papermill": {
     "duration": 2.921912,
     "end_time": "2023-12-30T05:41:53.490160",
     "exception": false,
     "start_time": "2023-12-30T05:41:50.568248",
     "status": "completed"
    },
    "tags": []
   },
   "outputs": [
    {
     "data": {
      "text/plain": [
       "0.13954039591355258"
      ]
     },
     "execution_count": 13,
     "metadata": {},
     "output_type": "execute_result"
    }
   ],
   "source": [
    "X_new = X.join([X_1, X_2, X_3, X_4, X_5])\n",
    "score_dataset(X_new, y)"
   ]
  },
  {
   "cell_type": "markdown",
   "id": "df5810da",
   "metadata": {
    "papermill": {
     "duration": 0.00983,
     "end_time": "2023-12-30T05:41:53.511405",
     "exception": false,
     "start_time": "2023-12-30T05:41:53.501575",
     "status": "completed"
    },
    "tags": []
   },
   "source": [
    "# Keep Going #\n",
    "\n",
    "[**Untangle spatial relationships**](https://www.kaggle.com/ryanholbrook/clustering-with-k-means) by adding cluster labels to your dataset."
   ]
  },
  {
   "cell_type": "markdown",
   "id": "ec9a567e",
   "metadata": {
    "papermill": {
     "duration": 0.009673,
     "end_time": "2023-12-30T05:41:53.531208",
     "exception": false,
     "start_time": "2023-12-30T05:41:53.521535",
     "status": "completed"
    },
    "tags": []
   },
   "source": [
    "---\n",
    "\n",
    "\n",
    "\n",
    "\n",
    "*Have questions or comments? Visit the [course discussion forum](https://www.kaggle.com/learn/feature-engineering/discussion) to chat with other learners.*"
   ]
  }
 ],
 "metadata": {
  "jupytext": {
   "cell_metadata_filter": "-all",
   "formats": "ipynb"
  },
  "kaggle": {
   "accelerator": "none",
   "dataSources": [
    {
     "datasetId": 933090,
     "sourceId": 1828856,
     "sourceType": "datasetVersion"
    }
   ],
   "isGpuEnabled": false,
   "isInternetEnabled": false,
   "language": "python",
   "sourceType": "notebook"
  },
  "kernelspec": {
   "display_name": "Python 3",
   "language": "python",
   "name": "python3"
  },
  "language_info": {
   "codemirror_mode": {
    "name": "ipython",
    "version": 3
   },
   "file_extension": ".py",
   "mimetype": "text/x-python",
   "name": "python",
   "nbconvert_exporter": "python",
   "pygments_lexer": "ipython3",
   "version": "3.10.12"
  },
  "papermill": {
   "default_parameters": {},
   "duration": 11.693807,
   "end_time": "2023-12-30T05:41:54.164411",
   "environment_variables": {},
   "exception": null,
   "input_path": "__notebook__.ipynb",
   "output_path": "__notebook__.ipynb",
   "parameters": {},
   "start_time": "2023-12-30T05:41:42.470604",
   "version": "2.4.0"
  }
 },
 "nbformat": 4,
 "nbformat_minor": 5
}
